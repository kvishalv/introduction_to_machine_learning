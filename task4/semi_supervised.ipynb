{
 "cells": [
  {
   "cell_type": "markdown",
   "metadata": {},
   "source": [
    "# Semisupervised Learning"
   ]
  },
  {
   "cell_type": "code",
   "execution_count": 2,
   "metadata": {},
   "outputs": [
    {
     "name": "stderr",
     "output_type": "stream",
     "text": [
      "Using TensorFlow backend.\n"
     ]
    }
   ],
   "source": [
    "import numpy as np\n",
    "import pandas as pd\n",
    "from keras import utils as ku\n",
    "from sklearn.semi_supervised import LabelSpreading"
   ]
  },
  {
   "cell_type": "markdown",
   "metadata": {},
   "source": [
    "### Data Import"
   ]
  },
  {
   "cell_type": "code",
   "execution_count": 3,
   "metadata": {
    "collapsed": true
   },
   "outputs": [],
   "source": [
    "def read_hdf5(filename, dataname):\n",
    "    train_i = ku.HDF5Matrix(filename, '%s/axis1' % dataname)\n",
    "    train_x = ku.HDF5Matrix(filename, '%s/block0_values' % dataname)\n",
    "    try:\n",
    "        train_y = ku.HDF5Matrix(filename, '%s/block1_values' % dataname)\n",
    "    except KeyError:\n",
    "        train_y = None\n",
    "\n",
    "    train_i = np.array(train_i.data).astype('int')\n",
    "    train_x = np.array(train_x.data)\n",
    "    if train_y is not None:\n",
    "        train_y = np.array(train_y.data).astype('int')\n",
    "    else:\n",
    "        train_y = np.ones((len(train_x), 1)) * -1\n",
    "\n",
    "    return train_i, train_x, train_y"
   ]
  },
  {
   "cell_type": "code",
   "execution_count": 4,
   "metadata": {},
   "outputs": [
    {
     "data": {
      "text/plain": [
       "Ellipsis"
      ]
     },
     "execution_count": 4,
     "metadata": {},
     "output_type": "execute_result"
    }
   ],
   "source": [
    "# Data import\n",
    "labeled_i, labeled_x, labeled_y = read_hdf5('./data/train_labeled.h5', 'train')\n",
    "unlabeled_i, unlabeled_x, unlabeled_y = read_hdf5('./data/train_unlabeled.h5', 'train')\n",
    "\n",
    "# Suffling of data\n",
    "...\n",
    "\n",
    "# Split in train and validation set\n",
    "..."
   ]
  },
  {
   "cell_type": "code",
   "execution_count": 7,
   "metadata": {},
   "outputs": [],
   "source": [
    "# Combine both data sets\n",
    "X = np.concatenate((labeled_x, unlabeled_x), axis=0)\n",
    "y = np.concatenate((labeled_y, unlabeled_y), axis=0)"
   ]
  },
  {
   "cell_type": "code",
   "execution_count": 8,
   "metadata": {
    "collapsed": true
   },
   "outputs": [],
   "source": [
    "test_i, test_x, tmp = read_hdf5('./data/test.h5', 'test')"
   ]
  },
  {
   "cell_type": "markdown",
   "metadata": {},
   "source": [
    "**Semi-supervised graph inference algorithms** work by constructing a similarity graph over all items in the input dataset. LabelPropagation and LabelSpreading differ in modifications to the similarity matrix that graph and the clamping effect on the label distributions. Clamping allows the algorithm to change the weight of the true ground labeled data to some degree. "
   ]
  },
  {
   "cell_type": "code",
   "execution_count": 9,
   "metadata": {},
   "outputs": [
    {
     "name": "stderr",
     "output_type": "stream",
     "text": [
      "/home/bunnech/venv3/lib/python3.5/site-packages/sklearn/utils/validation.py:526: DataConversionWarning: A column-vector y was passed when a 1d array was expected. Please change the shape of y to (n_samples, ), for example using ravel().\n",
      "  y = column_or_1d(y, warn=True)\n"
     ]
    },
    {
     "data": {
      "text/plain": [
       "LabelSpreading(alpha=0.1, gamma=5, kernel='rbf', max_iter=30, n_jobs=4,\n",
       "        n_neighbors=7, tol=0.001)"
      ]
     },
     "execution_count": 9,
     "metadata": {},
     "output_type": "execute_result"
    }
   ],
   "source": [
    "model = LabelSpreading(kernel='rbf', gamma=5,  \n",
    "                       alpha=0.1, max_iter=30, tol=0.001, n_jobs=4)\n",
    "model.fit(X, y)"
   ]
  },
  {
   "cell_type": "code",
   "execution_count": 10,
   "metadata": {
    "collapsed": true
   },
   "outputs": [],
   "source": [
    "y_pred = model.predict(test_x)"
   ]
  },
  {
   "cell_type": "code",
   "execution_count": 79,
   "metadata": {},
   "outputs": [
    {
     "data": {
      "text/plain": [
       "array([ 0.,  0.,  0., ...,  0.,  0.,  0.])"
      ]
     },
     "execution_count": 79,
     "metadata": {},
     "output_type": "execute_result"
    }
   ],
   "source": [
    "y_pred"
   ]
  },
  {
   "cell_type": "code",
   "execution_count": null,
   "metadata": {
    "collapsed": true
   },
   "outputs": [],
   "source": []
  }
 ],
 "metadata": {
  "kernelspec": {
   "display_name": "Python 3",
   "language": "python",
   "name": "python3"
  },
  "language_info": {
   "codemirror_mode": {
    "name": "ipython",
    "version": 3
   },
   "file_extension": ".py",
   "mimetype": "text/x-python",
   "name": "python",
   "nbconvert_exporter": "python",
   "pygments_lexer": "ipython3",
   "version": "3.5.2"
  }
 },
 "nbformat": 4,
 "nbformat_minor": 2
}
