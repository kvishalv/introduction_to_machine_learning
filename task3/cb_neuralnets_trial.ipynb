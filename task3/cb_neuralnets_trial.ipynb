{
 "cells": [
  {
   "cell_type": "markdown",
   "metadata": {},
   "source": [
    "# Task 3: Neural Networks"
   ]
  },
  {
   "cell_type": "markdown",
   "metadata": {
    "collapsed": true
   },
   "source": [
    "Multi-class Classification: Your goal is to predict a discrete value y (0, 1, 2, 3 or 4) based on a vector x.\n",
    "\n",
    "Potential approaches / tools to consider: Neural networks / Deep Learning (Theano, TensorFlow, Torch, Lasagne)"
   ]
  },
  {
   "cell_type": "code",
   "execution_count": 74,
   "metadata": {},
   "outputs": [],
   "source": [
    "import tensorflow \n",
    "import numpy as np\n",
    "import matplotlib.pyplot as plt\n",
    "import pandas as pd\n",
    "from keras.models import Sequential\n",
    "from keras.layers import Dense, Dropout, Activation\n",
    "from keras.wrappers.scikit_learn import KerasClassifier\n",
    "from keras.optimizers import SGD\n",
    "from keras.callbacks import History, Callback\n",
    "from keras.utils import np_utils, to_categorical\n",
    "from sklearn import model_selection\n",
    "from sklearn.preprocessing import LabelEncoder\n",
    "from sklearn.pipeline import Pipeline\n",
    "\n",
    "%matplotlib inline"
   ]
  },
  {
   "cell_type": "markdown",
   "metadata": {},
   "source": [
    "#### Data Import"
   ]
  },
  {
   "cell_type": "code",
   "execution_count": 62,
   "metadata": {
    "collapsed": true
   },
   "outputs": [],
   "source": [
    "train = pd.read_hdf(\"data/train.h5\", \"train\")\n",
    "train_labels = train['y'].as_matrix()\n",
    "train_data = train.ix[:, 1:].astype(float).as_matrix()\n",
    "test_data = pd.read_hdf(\"data/test.h5\", \"test\").as_matrix()"
   ]
  },
  {
   "cell_type": "markdown",
   "metadata": {},
   "source": [
    "#### Split Data into Train and Validation Set "
   ]
  },
  {
   "cell_type": "code",
   "execution_count": 17,
   "metadata": {
    "collapsed": true
   },
   "outputs": [],
   "source": [
    "X_train, X_test, y_train, y_test = model_selection.train_test_split(train_data, train_labels, \n",
    "                                                                    test_size=0.33, random_state=42)"
   ]
  },
  {
   "cell_type": "markdown",
   "metadata": {},
   "source": [
    "#### Convert Labels"
   ]
  },
  {
   "cell_type": "code",
   "execution_count": 19,
   "metadata": {},
   "outputs": [],
   "source": [
    "labels_cat = to_categorical(train_labels, num_classes=5)\n",
    "y_train_cat = to_categorical(y_train, num_classes=5)\n",
    "y_test_cat = to_categorical(y_test, num_classes=5)"
   ]
  },
  {
   "cell_type": "markdown",
   "metadata": {},
   "source": [
    "### Neural Network Model: Baseline Model"
   ]
  },
  {
   "cell_type": "markdown",
   "metadata": {
    "collapsed": true
   },
   "source": [
    "The function below creates a baseline neural network, a simple, fully connected network with one hidden layer that contains 100 neurons. The hidden layer uses a rectifier activation function which is a good practice. The output value with the largest value will be taken as the class predicted by the model.\n",
    "\n",
    "The **network topology** can be summarised by: \n",
    "*100 inputs -> [100 hidden nodes] -> 5 outputs* "
   ]
  },
  {
   "cell_type": "code",
   "execution_count": 66,
   "metadata": {
    "collapsed": true
   },
   "outputs": [],
   "source": [
    "model = Sequential()\n",
    "model.add(Dense(64, input_dim=100, kernel_initializer='normal', \n",
    "                activation='relu'))\n",
    "model.add(Dense(5, kernel_initializer='normal', activation='softmax'))\n",
    "\n",
    "model.compile(loss='categorical_crossentropy', optimizer='rmsprop', \n",
    "              metrics=['accuracy'])"
   ]
  },
  {
   "cell_type": "code",
   "execution_count": 67,
   "metadata": {},
   "outputs": [
    {
     "name": "stdout",
     "output_type": "stream",
     "text": [
      "Epoch 1/10\n",
      "45324/45324 [==============================] - 0s - loss: 0.6615 - acc: 0.7936     \n",
      "Epoch 2/10\n",
      "45324/45324 [==============================] - 0s - loss: 0.4032 - acc: 0.8642     \n",
      "Epoch 3/10\n",
      "45324/45324 [==============================] - 0s - loss: 0.3439 - acc: 0.8852     \n",
      "Epoch 4/10\n",
      "45324/45324 [==============================] - 0s - loss: 0.3075 - acc: 0.8991     \n",
      "Epoch 5/10\n",
      "45324/45324 [==============================] - 0s - loss: 0.2808 - acc: 0.9087     \n",
      "Epoch 6/10\n",
      "45324/45324 [==============================] - 0s - loss: 0.2618 - acc: 0.9148     \n",
      "Epoch 7/10\n",
      "45324/45324 [==============================] - 0s - loss: 0.2465 - acc: 0.9204     \n",
      "Epoch 8/10\n",
      "45324/45324 [==============================] - 0s - loss: 0.2349 - acc: 0.9241     \n",
      "Epoch 9/10\n",
      "45324/45324 [==============================] - 0s - loss: 0.2244 - acc: 0.9276     \n",
      "Epoch 10/10\n",
      "45324/45324 [==============================] - 0s - loss: 0.2160 - acc: 0.9308     \n"
     ]
    },
    {
     "data": {
      "text/plain": [
       "<keras.callbacks.History at 0x7f55f9cfe160>"
      ]
     },
     "execution_count": 67,
     "metadata": {},
     "output_type": "execute_result"
    }
   ],
   "source": [
    "model.fit(train_data, labels_cat, epochs=10, batch_size=64)"
   ]
  },
  {
   "cell_type": "code",
   "execution_count": 68,
   "metadata": {},
   "outputs": [
    {
     "data": {
      "text/plain": [
       "array([[  9.62778926e-01,   8.55894003e-04,   5.47987921e-03,\n",
       "          5.45128202e-03,   2.54339222e-02],\n",
       "       [  2.69350447e-02,   9.96673945e-04,   4.78248388e-01,\n",
       "          4.31844778e-02,   4.50635374e-01],\n",
       "       [  2.93500954e-04,   4.36020446e-06,   2.73193233e-03,\n",
       "          3.52676085e-04,   9.96617496e-01],\n",
       "       ..., \n",
       "       [  2.54674233e-03,   3.89729166e-06,   6.36458513e-04,\n",
       "          9.96709704e-01,   1.03122213e-04],\n",
       "       [  5.64311406e-08,   6.86394319e-09,   9.99921799e-01,\n",
       "          7.81826457e-05,   6.84206858e-11],\n",
       "       [  1.93114975e-03,   5.83559508e-03,   2.51577526e-01,\n",
       "          1.68578012e-03,   7.38969922e-01]], dtype=float32)"
      ]
     },
     "execution_count": 68,
     "metadata": {},
     "output_type": "execute_result"
    }
   ],
   "source": [
    "model.predict(test_data, batch_size=64)"
   ]
  },
  {
   "cell_type": "markdown",
   "metadata": {},
   "source": [
    "### Multilayer Perceptron (MLP) for multi-class softmax classification"
   ]
  },
  {
   "cell_type": "code",
   "execution_count": 35,
   "metadata": {},
   "outputs": [
    {
     "name": "stdout",
     "output_type": "stream",
     "text": [
      "Epoch 1/20\n",
      "30367/30367 [==============================] - 0s - loss: 1.6111 - acc: 0.2479     \n",
      "Epoch 2/20\n",
      "30367/30367 [==============================] - 0s - loss: 1.4796 - acc: 0.3581     \n",
      "Epoch 3/20\n",
      "30367/30367 [==============================] - 0s - loss: 1.3598 - acc: 0.4524     \n",
      "Epoch 4/20\n",
      "30367/30367 [==============================] - 0s - loss: 1.2540 - acc: 0.5122     \n",
      "Epoch 5/20\n",
      "30367/30367 [==============================] - 0s - loss: 1.1650 - acc: 0.5552     \n",
      "Epoch 6/20\n",
      "30367/30367 [==============================] - 0s - loss: 1.0874 - acc: 0.5928     \n",
      "Epoch 7/20\n",
      "30367/30367 [==============================] - 0s - loss: 1.0316 - acc: 0.6183     \n",
      "Epoch 8/20\n",
      "30367/30367 [==============================] - 0s - loss: 0.9855 - acc: 0.6395     \n",
      "Epoch 9/20\n",
      "30367/30367 [==============================] - 0s - loss: 0.9489 - acc: 0.6570     \n",
      "Epoch 10/20\n",
      "30367/30367 [==============================] - 0s - loss: 0.9134 - acc: 0.6699     \n",
      "Epoch 11/20\n",
      "30367/30367 [==============================] - 0s - loss: 0.8852 - acc: 0.6823     \n",
      "Epoch 12/20\n",
      "30367/30367 [==============================] - 0s - loss: 0.8529 - acc: 0.6945     \n",
      "Epoch 13/20\n",
      "30367/30367 [==============================] - 0s - loss: 0.8283 - acc: 0.7066     \n",
      "Epoch 14/20\n",
      "30367/30367 [==============================] - 0s - loss: 0.8119 - acc: 0.7191     \n",
      "Epoch 15/20\n",
      "30367/30367 [==============================] - 0s - loss: 0.7926 - acc: 0.7214     \n",
      "Epoch 16/20\n",
      "30367/30367 [==============================] - 0s - loss: 0.7742 - acc: 0.7284     \n",
      "Epoch 17/20\n",
      "30367/30367 [==============================] - 0s - loss: 0.7596 - acc: 0.7331     \n",
      "Epoch 18/20\n",
      "30367/30367 [==============================] - 0s - loss: 0.7483 - acc: 0.7430     \n",
      "Epoch 19/20\n",
      "30367/30367 [==============================] - 0s - loss: 0.7287 - acc: 0.7498     \n",
      "Epoch 20/20\n",
      "30367/30367 [==============================] - 0s - loss: 0.7192 - acc: 0.7521     \n",
      " 7296/14957 [=============>................] - ETA: 0s"
     ]
    }
   ],
   "source": [
    "model = Sequential()\n",
    "# Dense(64) is a fully-connected layer with 64 hidden units.\n",
    "\n",
    "model.add(Dense(64, activation='relu', input_dim=100))\n",
    "model.add(Dropout(0.5))\n",
    "model.add(Dense(64, activation='relu'))\n",
    "model.add(Dropout(0.5))\n",
    "model.add(Dense(5, activation='softmax'))\n",
    "\n",
    "sgd = SGD(lr=0.01, decay=1e-6, momentum=0.9, nesterov=True)\n",
    "model.compile(loss='categorical_crossentropy', optimizer='sgd', metrics=['accuracy'])\n",
    "\n",
    "model.fit(X_train, y_train_cat, epochs=20, batch_size=128)\n",
    "score = model.evaluate(X_test, y_test_cat, batch_size=128)"
   ]
  },
  {
   "cell_type": "code",
   "execution_count": 36,
   "metadata": {},
   "outputs": [
    {
     "data": {
      "text/plain": [
       "[0.50973771133229651, 0.83706625661022993]"
      ]
     },
     "execution_count": 36,
     "metadata": {},
     "output_type": "execute_result"
    }
   ],
   "source": [
    "score"
   ]
  },
  {
   "cell_type": "markdown",
   "metadata": {
    "collapsed": true
   },
   "source": [
    "### Theory and Model Design"
   ]
  },
  {
   "cell_type": "markdown",
   "metadata": {},
   "source": [
    "**Activation function** of a node defines the output of that node given an input or set of inputs.\n",
    "- softmax\n",
    "- elu\n",
    "- softpuls\n",
    "- softsign\n",
    "- relu\n",
    "- tanh\n",
    "- sigmoid\n",
    "- hard_sigmoid\n",
    "- linear\n",
    "\n",
    "Fully connected layers are defined using the *Dense* class. We can specify the number of neurons in the layer as the first argument, the initialization method as the second argument as *init* and specify the activation function using the activation argument."
   ]
  },
  {
   "cell_type": "code",
   "execution_count": 32,
   "metadata": {},
   "outputs": [],
   "source": [
    "model = Sequential()\n",
    "model.add(Dense(32, input_dim=100, activation='relu'))\n",
    "model.add(Dense(16, activation='relu'))\n",
    "model.add(Dense(1, activation='sigmoid'))"
   ]
  },
  {
   "cell_type": "code",
   "execution_count": 39,
   "metadata": {},
   "outputs": [],
   "source": [
    "model.compile(loss='categorical_crossentropy', optimizer='rmsprop', metrics=['accuracy'])"
   ]
  },
  {
   "cell_type": "code",
   "execution_count": 82,
   "metadata": {},
   "outputs": [
    {
     "name": "stdout",
     "output_type": "stream",
     "text": [
      "Epoch 1/150\n",
      "30367/30367 [==============================] - 0s - loss: 0.3626 - acc: 0.8933     \n",
      "Epoch 2/150\n",
      "30367/30367 [==============================] - 0s - loss: 0.3765 - acc: 0.8913     \n",
      "Epoch 3/150\n",
      "30367/30367 [==============================] - 0s - loss: 0.3651 - acc: 0.8932     \n",
      "Epoch 4/150\n",
      "30367/30367 [==============================] - 0s - loss: 0.3683 - acc: 0.8931     \n",
      "Epoch 5/150\n",
      "30367/30367 [==============================] - 0s - loss: 0.3643 - acc: 0.8935     \n",
      "Epoch 6/150\n",
      "30367/30367 [==============================] - 0s - loss: 0.3716 - acc: 0.8925     \n",
      "Epoch 7/150\n",
      "30367/30367 [==============================] - 0s - loss: 0.3729 - acc: 0.8915     \n",
      "Epoch 8/150\n",
      "30367/30367 [==============================] - 0s - loss: 0.3702 - acc: 0.8926     \n",
      "Epoch 9/150\n",
      "30367/30367 [==============================] - 0s - loss: 0.3742 - acc: 0.8896     \n",
      "Epoch 10/150\n",
      "30367/30367 [==============================] - 0s - loss: 0.3658 - acc: 0.8929     \n",
      "Epoch 11/150\n",
      "30367/30367 [==============================] - 0s - loss: 0.3690 - acc: 0.8918     \n",
      "Epoch 12/150\n",
      "30367/30367 [==============================] - 0s - loss: 0.3676 - acc: 0.8919     \n",
      "Epoch 13/150\n",
      "30367/30367 [==============================] - 0s - loss: 0.3718 - acc: 0.8916     \n",
      "Epoch 14/150\n",
      "30367/30367 [==============================] - 0s - loss: 0.3696 - acc: 0.8911     \n",
      "Epoch 15/150\n",
      "30367/30367 [==============================] - 0s - loss: 0.3733 - acc: 0.8906     \n",
      "Epoch 16/150\n",
      "30367/30367 [==============================] - 0s - loss: 0.3696 - acc: 0.8930     \n",
      "Epoch 17/150\n",
      "30367/30367 [==============================] - 0s - loss: 0.3683 - acc: 0.8911     \n",
      "Epoch 18/150\n",
      "30367/30367 [==============================] - 0s - loss: 0.3678 - acc: 0.8909     \n",
      "Epoch 19/150\n",
      "30367/30367 [==============================] - 0s - loss: 0.3690 - acc: 0.8907     \n",
      "Epoch 20/150\n",
      "30367/30367 [==============================] - 0s - loss: 0.3708 - acc: 0.8930     \n",
      "Epoch 21/150\n",
      "30367/30367 [==============================] - 0s - loss: 0.3725 - acc: 0.8926     \n",
      "Epoch 22/150\n",
      "30367/30367 [==============================] - 0s - loss: 0.3675 - acc: 0.8907     \n",
      "Epoch 23/150\n",
      "30367/30367 [==============================] - 0s - loss: 0.3680 - acc: 0.8923     \n",
      "Epoch 24/150\n",
      "30367/30367 [==============================] - 0s - loss: 0.3680 - acc: 0.8937     \n",
      "Epoch 25/150\n",
      "30367/30367 [==============================] - 0s - loss: 0.3694 - acc: 0.8922     \n",
      "Epoch 26/150\n",
      "30367/30367 [==============================] - 0s - loss: 0.3733 - acc: 0.8912     \n",
      "Epoch 27/150\n",
      "30367/30367 [==============================] - 0s - loss: 0.3718 - acc: 0.8908     \n",
      "Epoch 28/150\n",
      "30367/30367 [==============================] - 0s - loss: 0.3710 - acc: 0.8905     \n",
      "Epoch 29/150\n",
      "30367/30367 [==============================] - 0s - loss: 0.3688 - acc: 0.8940     \n",
      "Epoch 30/150\n",
      "30367/30367 [==============================] - 0s - loss: 0.3767 - acc: 0.8881     \n",
      "Epoch 31/150\n",
      "30367/30367 [==============================] - 0s - loss: 0.3683 - acc: 0.8910     \n",
      "Epoch 32/150\n",
      "30367/30367 [==============================] - 0s - loss: 0.3713 - acc: 0.8918     \n",
      "Epoch 33/150\n",
      "30367/30367 [==============================] - 0s - loss: 0.3742 - acc: 0.8903     \n",
      "Epoch 34/150\n",
      "30367/30367 [==============================] - 0s - loss: 0.3685 - acc: 0.8918     \n",
      "Epoch 35/150\n",
      "30367/30367 [==============================] - 0s - loss: 0.3702 - acc: 0.8926     \n",
      "Epoch 36/150\n",
      "30367/30367 [==============================] - 0s - loss: 0.3671 - acc: 0.8923     \n",
      "Epoch 37/150\n",
      "30367/30367 [==============================] - 0s - loss: 0.3731 - acc: 0.8900     \n",
      "Epoch 38/150\n",
      "30367/30367 [==============================] - 0s - loss: 0.3745 - acc: 0.8913     \n",
      "Epoch 39/150\n",
      "30367/30367 [==============================] - 0s - loss: 0.3655 - acc: 0.8910     \n",
      "Epoch 40/150\n",
      "30367/30367 [==============================] - 0s - loss: 0.3766 - acc: 0.8887     \n",
      "Epoch 41/150\n",
      "30367/30367 [==============================] - 0s - loss: 0.3687 - acc: 0.8895     \n",
      "Epoch 42/150\n",
      "30367/30367 [==============================] - 0s - loss: 0.3701 - acc: 0.8906     \n",
      "Epoch 43/150\n",
      "30367/30367 [==============================] - 0s - loss: 0.3732 - acc: 0.8937     \n",
      "Epoch 44/150\n",
      "30367/30367 [==============================] - 0s - loss: 0.3784 - acc: 0.8893     \n",
      "Epoch 45/150\n",
      "30367/30367 [==============================] - 0s - loss: 0.3655 - acc: 0.8914     \n",
      "Epoch 46/150\n",
      "30367/30367 [==============================] - 0s - loss: 0.3696 - acc: 0.8926     \n",
      "Epoch 47/150\n",
      "30367/30367 [==============================] - 0s - loss: 0.3665 - acc: 0.8940     \n",
      "Epoch 48/150\n",
      "30367/30367 [==============================] - 0s - loss: 0.3670 - acc: 0.8900     \n",
      "Epoch 49/150\n",
      "30367/30367 [==============================] - 0s - loss: 0.3706 - acc: 0.8901     - ETA: 0s - loss: 0.3634 -\n",
      "Epoch 50/150\n",
      "30367/30367 [==============================] - 0s - loss: 0.3756 - acc: 0.8896     \n",
      "Epoch 51/150\n",
      "30367/30367 [==============================] - 0s - loss: 0.3715 - acc: 0.8914     \n",
      "Epoch 52/150\n",
      "30367/30367 [==============================] - 0s - loss: 0.3704 - acc: 0.8919     \n",
      "Epoch 53/150\n",
      "30367/30367 [==============================] - 0s - loss: 0.3715 - acc: 0.8910     \n",
      "Epoch 54/150\n",
      "30367/30367 [==============================] - 0s - loss: 0.3745 - acc: 0.8913     \n",
      "Epoch 55/150\n",
      "30367/30367 [==============================] - 0s - loss: 0.3672 - acc: 0.8938     \n",
      "Epoch 56/150\n",
      "30367/30367 [==============================] - 0s - loss: 0.3730 - acc: 0.8896     \n",
      "Epoch 57/150\n",
      "30367/30367 [==============================] - 0s - loss: 0.3716 - acc: 0.8897     \n",
      "Epoch 58/150\n",
      "30367/30367 [==============================] - 0s - loss: 0.3767 - acc: 0.8894     \n",
      "Epoch 59/150\n",
      "30367/30367 [==============================] - 0s - loss: 0.3726 - acc: 0.8927     \n",
      "Epoch 60/150\n",
      "30367/30367 [==============================] - 0s - loss: 0.3795 - acc: 0.8902     \n",
      "Epoch 61/150\n",
      "30367/30367 [==============================] - 0s - loss: 0.3754 - acc: 0.8925     \n",
      "Epoch 62/150\n",
      "30367/30367 [==============================] - 0s - loss: 0.3813 - acc: 0.8895     \n",
      "Epoch 63/150\n",
      "30367/30367 [==============================] - 0s - loss: 0.3698 - acc: 0.8919     \n",
      "Epoch 64/150\n",
      "30367/30367 [==============================] - 0s - loss: 0.3707 - acc: 0.8903     \n",
      "Epoch 65/150\n",
      "30367/30367 [==============================] - 0s - loss: 0.3790 - acc: 0.8893     \n",
      "Epoch 66/150\n",
      "30367/30367 [==============================] - 0s - loss: 0.3710 - acc: 0.8917     \n",
      "Epoch 67/150\n",
      "30367/30367 [==============================] - 0s - loss: 0.3739 - acc: 0.8901     \n",
      "Epoch 68/150\n",
      "30367/30367 [==============================] - 0s - loss: 0.3706 - acc: 0.8908     \n",
      "Epoch 69/150\n",
      "30367/30367 [==============================] - 0s - loss: 0.3755 - acc: 0.8894     \n",
      "Epoch 70/150\n",
      "30367/30367 [==============================] - 0s - loss: 0.3736 - acc: 0.8908     \n",
      "Epoch 71/150\n",
      "30367/30367 [==============================] - 0s - loss: 0.3676 - acc: 0.8918     \n",
      "Epoch 72/150\n",
      "30367/30367 [==============================] - 0s - loss: 0.3768 - acc: 0.8890     \n",
      "Epoch 73/150\n",
      "30367/30367 [==============================] - 0s - loss: 0.3729 - acc: 0.8915     \n",
      "Epoch 74/150\n",
      "30367/30367 [==============================] - 0s - loss: 0.3756 - acc: 0.8915     \n",
      "Epoch 75/150\n",
      "30367/30367 [==============================] - 0s - loss: 0.3763 - acc: 0.8900     \n",
      "Epoch 76/150\n",
      "30367/30367 [==============================] - 0s - loss: 0.3716 - acc: 0.8912     \n",
      "Epoch 77/150\n",
      "30367/30367 [==============================] - 0s - loss: 0.3784 - acc: 0.8909     \n",
      "Epoch 78/150\n",
      "30367/30367 [==============================] - 1s - loss: 0.3721 - acc: 0.8937     \n",
      "Epoch 79/150\n",
      "30367/30367 [==============================] - 0s - loss: 0.3772 - acc: 0.8897     \n",
      "Epoch 80/150\n",
      "30367/30367 [==============================] - 0s - loss: 0.3783 - acc: 0.8910     \n",
      "Epoch 81/150\n",
      "30367/30367 [==============================] - 0s - loss: 0.3734 - acc: 0.8895     \n",
      "Epoch 82/150\n",
      "30367/30367 [==============================] - 0s - loss: 0.3701 - acc: 0.8908     \n",
      "Epoch 83/150\n",
      "30367/30367 [==============================] - 0s - loss: 0.3747 - acc: 0.8893     \n",
      "Epoch 84/150\n",
      "30367/30367 [==============================] - 0s - loss: 0.3761 - acc: 0.8895     \n",
      "Epoch 85/150\n"
     ]
    },
    {
     "name": "stdout",
     "output_type": "stream",
     "text": [
      "30367/30367 [==============================] - 0s - loss: 0.3789 - acc: 0.8893     \n",
      "Epoch 86/150\n",
      "30367/30367 [==============================] - 0s - loss: 0.3711 - acc: 0.8905     \n",
      "Epoch 87/150\n",
      "30367/30367 [==============================] - 0s - loss: 0.3748 - acc: 0.8894     \n",
      "Epoch 88/150\n",
      "30367/30367 [==============================] - 0s - loss: 0.3772 - acc: 0.8903     \n",
      "Epoch 89/150\n",
      "30367/30367 [==============================] - 0s - loss: 0.3769 - acc: 0.8923     \n",
      "Epoch 90/150\n",
      "30367/30367 [==============================] - 0s - loss: 0.3759 - acc: 0.8907     \n",
      "Epoch 91/150\n",
      "30367/30367 [==============================] - 0s - loss: 0.3759 - acc: 0.8904     \n",
      "Epoch 92/150\n",
      "30367/30367 [==============================] - 0s - loss: 0.3766 - acc: 0.8893     \n",
      "Epoch 93/150\n",
      "30367/30367 [==============================] - 0s - loss: 0.3807 - acc: 0.8919     \n",
      "Epoch 94/150\n",
      "30367/30367 [==============================] - 0s - loss: 0.3737 - acc: 0.8886     \n",
      "Epoch 95/150\n",
      "30367/30367 [==============================] - ETA: 0s - loss: 0.3729 - acc: 0.892 - 0s - loss: 0.3759 - acc: 0.8918     \n",
      "Epoch 96/150\n",
      "30367/30367 [==============================] - 0s - loss: 0.3776 - acc: 0.8895     \n",
      "Epoch 97/150\n",
      "30367/30367 [==============================] - 0s - loss: 0.3824 - acc: 0.8897     \n",
      "Epoch 98/150\n",
      "30367/30367 [==============================] - 0s - loss: 0.3756 - acc: 0.8911     \n",
      "Epoch 99/150\n",
      "30367/30367 [==============================] - 0s - loss: 0.3756 - acc: 0.8908     \n",
      "Epoch 100/150\n",
      "30367/30367 [==============================] - 0s - loss: 0.3784 - acc: 0.8890     \n",
      "Epoch 101/150\n",
      "30367/30367 [==============================] - 0s - loss: 0.3712 - acc: 0.8922     \n",
      "Epoch 102/150\n",
      "30367/30367 [==============================] - 0s - loss: 0.3763 - acc: 0.8908     \n",
      "Epoch 103/150\n",
      "30367/30367 [==============================] - 0s - loss: 0.3773 - acc: 0.8896     \n",
      "Epoch 104/150\n",
      "30367/30367 [==============================] - 0s - loss: 0.3765 - acc: 0.8915     \n",
      "Epoch 105/150\n",
      "30367/30367 [==============================] - 0s - loss: 0.3720 - acc: 0.8899     \n",
      "Epoch 106/150\n",
      "30367/30367 [==============================] - 0s - loss: 0.3769 - acc: 0.8920     \n",
      "Epoch 107/150\n",
      "30367/30367 [==============================] - 0s - loss: 0.3813 - acc: 0.8885     \n",
      "Epoch 108/150\n",
      "30367/30367 [==============================] - 0s - loss: 0.3725 - acc: 0.8921     \n",
      "Epoch 109/150\n",
      "30367/30367 [==============================] - 0s - loss: 0.3764 - acc: 0.8894     \n",
      "Epoch 110/150\n",
      "30367/30367 [==============================] - 0s - loss: 0.3858 - acc: 0.8879     \n",
      "Epoch 111/150\n",
      "30367/30367 [==============================] - 0s - loss: 0.3757 - acc: 0.8909     \n",
      "Epoch 112/150\n",
      "30367/30367 [==============================] - 0s - loss: 0.3831 - acc: 0.8897     \n",
      "Epoch 113/150\n",
      "30367/30367 [==============================] - 0s - loss: 0.3763 - acc: 0.8903     \n",
      "Epoch 114/150\n",
      "30367/30367 [==============================] - 0s - loss: 0.3785 - acc: 0.8913     \n",
      "Epoch 115/150\n",
      "30367/30367 [==============================] - 0s - loss: 0.3799 - acc: 0.8888     \n",
      "Epoch 116/150\n",
      "30367/30367 [==============================] - 0s - loss: 0.3751 - acc: 0.8903     \n",
      "Epoch 117/150\n",
      "30367/30367 [==============================] - 0s - loss: 0.3756 - acc: 0.8919     \n",
      "Epoch 118/150\n",
      "30367/30367 [==============================] - 0s - loss: 0.3834 - acc: 0.8878     \n",
      "Epoch 119/150\n",
      "30367/30367 [==============================] - 0s - loss: 0.3758 - acc: 0.8892     \n",
      "Epoch 120/150\n",
      "30367/30367 [==============================] - 0s - loss: 0.3809 - acc: 0.8894     \n",
      "Epoch 121/150\n",
      "30367/30367 [==============================] - 0s - loss: 0.3771 - acc: 0.8900     \n",
      "Epoch 122/150\n",
      "30367/30367 [==============================] - 0s - loss: 0.3810 - acc: 0.8895     \n",
      "Epoch 123/150\n",
      "30367/30367 [==============================] - 0s - loss: 0.3815 - acc: 0.8873     \n",
      "Epoch 124/150\n",
      "30367/30367 [==============================] - 0s - loss: 0.3767 - acc: 0.8914     \n",
      "Epoch 125/150\n",
      "30367/30367 [==============================] - 0s - loss: 0.3764 - acc: 0.8893     \n",
      "Epoch 126/150\n",
      "30367/30367 [==============================] - 0s - loss: 0.3729 - acc: 0.8917     \n",
      "Epoch 127/150\n",
      "30367/30367 [==============================] - 0s - loss: 0.3748 - acc: 0.8910     \n",
      "Epoch 128/150\n",
      "30367/30367 [==============================] - 0s - loss: 0.3815 - acc: 0.8906     \n",
      "Epoch 129/150\n",
      "30367/30367 [==============================] - 1s - loss: 0.3782 - acc: 0.8903     \n",
      "Epoch 130/150\n",
      "30367/30367 [==============================] - 1s - loss: 0.3837 - acc: 0.8884     - ETA: 1s - loss: 0\n",
      "Epoch 131/150\n",
      "30367/30367 [==============================] - 0s - loss: 0.3801 - acc: 0.8901     \n",
      "Epoch 132/150\n",
      "30367/30367 [==============================] - 0s - loss: 0.3793 - acc: 0.8899     \n",
      "Epoch 133/150\n",
      "30367/30367 [==============================] - 0s - loss: 0.3768 - acc: 0.8899     \n",
      "Epoch 134/150\n",
      "30367/30367 [==============================] - 0s - loss: 0.3844 - acc: 0.8896     \n",
      "Epoch 135/150\n",
      "30367/30367 [==============================] - 0s - loss: 0.3807 - acc: 0.8897     \n",
      "Epoch 136/150\n",
      "30367/30367 [==============================] - 0s - loss: 0.3771 - acc: 0.8896     \n",
      "Epoch 137/150\n",
      "30367/30367 [==============================] - 0s - loss: 0.3793 - acc: 0.8898     \n",
      "Epoch 138/150\n",
      "30367/30367 [==============================] - 0s - loss: 0.3810 - acc: 0.8889     \n",
      "Epoch 139/150\n",
      "30367/30367 [==============================] - 0s - loss: 0.3801 - acc: 0.8889     \n",
      "Epoch 140/150\n",
      "30367/30367 [==============================] - 0s - loss: 0.3773 - acc: 0.8906     \n",
      "Epoch 141/150\n",
      "30367/30367 [==============================] - 0s - loss: 0.3767 - acc: 0.8907     \n",
      "Epoch 142/150\n",
      "30367/30367 [==============================] - 0s - loss: 0.3775 - acc: 0.8911     \n",
      "Epoch 143/150\n",
      "30367/30367 [==============================] - 0s - loss: 0.3774 - acc: 0.8908     \n",
      "Epoch 144/150\n",
      "30367/30367 [==============================] - 0s - loss: 0.3827 - acc: 0.8902     \n",
      "Epoch 145/150\n",
      "30367/30367 [==============================] - 0s - loss: 0.3730 - acc: 0.8910     \n",
      "Epoch 146/150\n",
      "30367/30367 [==============================] - 0s - loss: 0.3764 - acc: 0.8923     \n",
      "Epoch 147/150\n",
      "30367/30367 [==============================] - 0s - loss: 0.3789 - acc: 0.8905     \n",
      "Epoch 148/150\n",
      "30367/30367 [==============================] - 0s - loss: 0.3763 - acc: 0.8905     \n",
      "Epoch 149/150\n",
      "30367/30367 [==============================] - 0s - loss: 0.3805 - acc: 0.8900     \n",
      "Epoch 150/150\n",
      "30367/30367 [==============================] - 0s - loss: 0.3760 - acc: 0.8902     \n"
     ]
    },
    {
     "data": {
      "text/plain": [
       "<keras.callbacks.History at 0x7fb7f21ca208>"
      ]
     },
     "execution_count": 82,
     "metadata": {},
     "output_type": "execute_result"
    }
   ],
   "source": [
    "history = History()\n",
    "model.fit(X_train, y_train_cat, epochs=150, batch_size=100, callbacks=[history])"
   ]
  },
  {
   "cell_type": "code",
   "execution_count": 83,
   "metadata": {},
   "outputs": [
    {
     "data": {
      "text/plain": [
       "[<matplotlib.lines.Line2D at 0x7fb7f05aa080>]"
      ]
     },
     "execution_count": 83,
     "metadata": {},
     "output_type": "execute_result"
    },
    {
     "data": {
      "image/png": "[encoded data removed]",
      "text/plain": [
       "<matplotlib.figure.Figure at 0x7fb7f05cefd0>"
      ]
     },
     "metadata": {},
     "output_type": "display_data"
    }
   ],
   "source": [
    "plt.plot(history.epoch, history.history[\"acc\"])"
   ]
  },
  {
   "cell_type": "code",
   "execution_count": 50,
   "metadata": {},
   "outputs": [
    {
     "name": "stdout",
     "output_type": "stream",
     "text": [
      "28480/30367 [===========================>..] - ETA: 0s"
     ]
    },
    {
     "data": {
      "text/plain": [
       "'categorical_crossentropy'"
      ]
     },
     "execution_count": 50,
     "metadata": {},
     "output_type": "execute_result"
    }
   ],
   "source": [
    "scores = model.evaluate(X_train, y_train_cat)"
   ]
  },
  {
   "cell_type": "code",
   "execution_count": 41,
   "metadata": {
    "collapsed": true
   },
   "outputs": [],
   "source": [
    "predictions = model.predict(X_test)"
   ]
  },
  {
   "cell_type": "code",
   "execution_count": 45,
   "metadata": {},
   "outputs": [
    {
     "data": {
      "text/plain": [
       "14957"
      ]
     },
     "execution_count": 45,
     "metadata": {},
     "output_type": "execute_result"
    }
   ],
   "source": [
    "rounded = [np.argmax(x) for x in predictions]"
   ]
  },
  {
   "cell_type": "code",
   "execution_count": 47,
   "metadata": {},
   "outputs": [],
   "source": [
    "from sklearn.metrics import accuracy_score\n",
    "acc = accuracy_score(y_test, rounded)"
   ]
  },
  {
   "cell_type": "code",
   "execution_count": 48,
   "metadata": {},
   "outputs": [
    {
     "data": {
      "text/plain": [
       "0.92705756501972325"
      ]
     },
     "execution_count": 48,
     "metadata": {},
     "output_type": "execute_result"
    }
   ],
   "source": [
    "acc"
   ]
  },
  {
   "cell_type": "code",
   "execution_count": null,
   "metadata": {
    "collapsed": true
   },
   "outputs": [],
   "source": []
  }
 ],
 "metadata": {
  "kernelspec": {
   "display_name": "Python 3",
   "language": "python",
   "name": "python3"
  },
  "language_info": {
   "codemirror_mode": {
    "name": "ipython",
    "version": 3
   },
   "file_extension": ".py",
   "mimetype": "text/x-python",
   "name": "python",
   "nbconvert_exporter": "python",
   "pygments_lexer": "ipython3",
   "version": "3.5.2"
  }
 },
 "nbformat": 4,
 "nbformat_minor": 2
}
