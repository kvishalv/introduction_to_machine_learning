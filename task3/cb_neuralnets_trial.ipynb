{
 "cells": [
  {
   "cell_type": "markdown",
   "metadata": {},
   "source": [
    "# Task 3: Neural Networks"
   ]
  },
  {
   "cell_type": "markdown",
   "metadata": {
    "collapsed": true
   },
   "source": [
    "Multi-class Classification: Your goal is to predict a discrete value y (0, 1, 2, 3 or 4) based on a vector x.\n",
    "\n",
    "Potential approaches / tools to consider: Neural networks / Deep Learning (Theano, TensorFlow, Torch, Lasagne)"
   ]
  },
  {
   "cell_type": "code",
   "execution_count": 112,
   "metadata": {},
   "outputs": [],
   "source": [
    "import tensorflow \n",
    "import numpy as np\n",
    "import matplotlib.pyplot as plt\n",
    "import pandas as pd\n",
    "from keras.models import Sequential\n",
    "from keras.layers import Dense, Dropout, Activation\n",
    "from keras.wrappers.scikit_learn import KerasClassifier\n",
    "from keras.optimizers import SGD\n",
    "from keras.callbacks import History, Callback\n",
    "from keras.utils import np_utils, to_categorical\n",
    "from sklearn import model_selection\n",
    "from sklearn.preprocessing import LabelEncoder\n",
    "from sklearn.pipeline import Pipeline\n",
    "\n",
    "%matplotlib inline"
   ]
  },
  {
   "cell_type": "markdown",
   "metadata": {},
   "source": [
    "#### Data Import"
   ]
  },
  {
   "cell_type": "code",
   "execution_count": 136,
   "metadata": {
    "collapsed": true
   },
   "outputs": [],
   "source": [
    "train = pd.read_hdf(\"data/train.h5\", \"train\")\n",
    "train_labels = train['y'].as_matrix()\n",
    "train_data = train.ix[:, 1:].astype(float).as_matrix()\n",
    "test_data = pd.read_hdf(\"data/test.h5\", \"test\").as_matrix()"
   ]
  },
  {
   "cell_type": "markdown",
   "metadata": {},
   "source": [
    "#### Split Data into Train and Validation Set "
   ]
  },
  {
   "cell_type": "code",
   "execution_count": 137,
   "metadata": {},
   "outputs": [],
   "source": [
    "X_train, X_val, y_train, y_val = model_selection.train_test_split(train_data, train_labels, \n",
    "                                                                    test_size=0.33, random_state=42)"
   ]
  },
  {
   "cell_type": "code",
   "execution_count": 138,
   "metadata": {},
   "outputs": [
    {
     "data": {
      "text/plain": [
       "(30367,)"
      ]
     },
     "execution_count": 138,
     "metadata": {},
     "output_type": "execute_result"
    }
   ],
   "source": [
    "y_train.shape"
   ]
  },
  {
   "cell_type": "markdown",
   "metadata": {},
   "source": [
    "#### Convert Labels"
   ]
  },
  {
   "cell_type": "code",
   "execution_count": 139,
   "metadata": {},
   "outputs": [],
   "source": [
    "labels_cat = to_categorical(train_labels, num_classes=5)\n",
    "y_train_cat = to_categorical(y_train, num_classes=5)\n",
    "y_val_cat = to_categorical(y_val, num_classes=5)"
   ]
  },
  {
   "cell_type": "markdown",
   "metadata": {},
   "source": [
    "### Neural Network Model: Baseline Model"
   ]
  },
  {
   "cell_type": "markdown",
   "metadata": {
    "collapsed": true
   },
   "source": [
    "The function below creates a baseline neural network, a simple, fully connected network with one hidden layer that contains 100 neurons. The hidden layer uses a rectifier activation function which is a good practice. The output value with the largest value will be taken as the class predicted by the model.\n",
    "\n",
    "The **network topology** can be summarised by: \n",
    "*100 inputs -> [100 hidden nodes] -> 5 outputs* "
   ]
  },
  {
   "cell_type": "code",
   "execution_count": 140,
   "metadata": {
    "collapsed": true
   },
   "outputs": [],
   "source": [
    "model = Sequential()\n",
    "model.add(Dense(64, input_dim=100, kernel_initializer='normal', \n",
    "                activation='relu'))\n",
    "model.add(Dense(5, kernel_initializer='normal', activation='softmax'))\n",
    "\n",
    "model.compile(loss='categorical_crossentropy', optimizer='rmsprop', \n",
    "              metrics=['accuracy'])"
   ]
  },
  {
   "cell_type": "code",
   "execution_count": 141,
   "metadata": {},
   "outputs": [
    {
     "name": "stdout",
     "output_type": "stream",
     "text": [
      "Epoch 1/10\n",
      "45324/45324 [==============================] - 1s - loss: 0.6799 - acc: 0.7871     \n",
      "Epoch 2/10\n",
      "45324/45324 [==============================] - 1s - loss: 0.4188 - acc: 0.8589     \n",
      "Epoch 3/10\n",
      "45324/45324 [==============================] - 1s - loss: 0.3516 - acc: 0.8834     \n",
      "Epoch 4/10\n",
      "45324/45324 [==============================] - 1s - loss: 0.3119 - acc: 0.8967     \n",
      "Epoch 5/10\n",
      "45324/45324 [==============================] - 1s - loss: 0.2845 - acc: 0.9061     \n",
      "Epoch 6/10\n",
      "45324/45324 [==============================] - 1s - loss: 0.2640 - acc: 0.9153     \n",
      "Epoch 7/10\n",
      "45324/45324 [==============================] - 1s - loss: 0.2475 - acc: 0.9194     \n",
      "Epoch 8/10\n",
      "45324/45324 [==============================] - 0s - loss: 0.2350 - acc: 0.9249     \n",
      "Epoch 9/10\n",
      "45324/45324 [==============================] - 1s - loss: 0.2246 - acc: 0.9290     \n",
      "Epoch 10/10\n",
      "45324/45324 [==============================] - 1s - loss: 0.2154 - acc: 0.9309     \n"
     ]
    },
    {
     "data": {
      "text/plain": [
       "<keras.callbacks.History at 0x7fb7d0759438>"
      ]
     },
     "execution_count": 141,
     "metadata": {},
     "output_type": "execute_result"
    }
   ],
   "source": [
    "model.fit(train_data, labels_cat, epochs=10, batch_size=64)"
   ]
  },
  {
   "cell_type": "code",
   "execution_count": 142,
   "metadata": {},
   "outputs": [
    {
     "data": {
      "text/plain": [
       "array([[  9.62454021e-01,   2.68303696e-03,   4.30534966e-03,\n",
       "          6.78525481e-04,   2.98790243e-02],\n",
       "       [  6.39653355e-02,   7.73741817e-03,   1.56437233e-01,\n",
       "          1.07634207e-02,   7.61096597e-01],\n",
       "       [  6.65887725e-04,   9.10675408e-06,   4.07338934e-03,\n",
       "          2.61279172e-04,   9.94990289e-01],\n",
       "       ..., \n",
       "       [  3.93874245e-03,   4.11773226e-06,   2.94927275e-04,\n",
       "          9.95600462e-01,   1.61666161e-04],\n",
       "       [  1.50187657e-06,   1.59144520e-06,   9.98832643e-01,\n",
       "          1.16423471e-03,   3.89841981e-09],\n",
       "       [  8.94114899e-04,   9.49363597e-03,   4.99720842e-01,\n",
       "          3.02307599e-04,   4.89589125e-01]], dtype=float32)"
      ]
     },
     "execution_count": 142,
     "metadata": {},
     "output_type": "execute_result"
    }
   ],
   "source": [
    "model.predict(test_data, batch_size=64)"
   ]
  },
  {
   "cell_type": "markdown",
   "metadata": {},
   "source": [
    "### Multilayer Perceptron (MLP) for multi-class softmax classification"
   ]
  },
  {
   "cell_type": "code",
   "execution_count": 143,
   "metadata": {},
   "outputs": [
    {
     "name": "stdout",
     "output_type": "stream",
     "text": [
      "Epoch 1/20\n",
      "30367/30367 [==============================] - 0s - loss: 1.5782 - acc: 0.2771     \n",
      "Epoch 2/20\n",
      "30367/30367 [==============================] - 0s - loss: 1.4396 - acc: 0.3871     \n",
      "Epoch 3/20\n",
      "30367/30367 [==============================] - 0s - loss: 1.3246 - acc: 0.4611     \n",
      "Epoch 4/20\n",
      "30367/30367 [==============================] - 0s - loss: 1.2270 - acc: 0.5164     \n",
      "Epoch 5/20\n",
      "30367/30367 [==============================] - 0s - loss: 1.1468 - acc: 0.5566     \n",
      "Epoch 6/20\n",
      "30367/30367 [==============================] - 0s - loss: 1.0813 - acc: 0.5872     \n",
      "Epoch 7/20\n",
      "30367/30367 [==============================] - 0s - loss: 1.0281 - acc: 0.6124     \n",
      "Epoch 8/20\n",
      "30367/30367 [==============================] - 0s - loss: 0.9887 - acc: 0.6288     \n",
      "Epoch 9/20\n",
      "30367/30367 [==============================] - 0s - loss: 0.9451 - acc: 0.6508     \n",
      "Epoch 10/20\n",
      "30367/30367 [==============================] - 0s - loss: 0.9129 - acc: 0.6672     \n",
      "Epoch 11/20\n",
      "30367/30367 [==============================] - 0s - loss: 0.8860 - acc: 0.6801     \n",
      "Epoch 12/20\n",
      "30367/30367 [==============================] - 0s - loss: 0.8562 - acc: 0.6898     \n",
      "Epoch 13/20\n",
      "30367/30367 [==============================] - 0s - loss: 0.8375 - acc: 0.6974     \n",
      "Epoch 14/20\n",
      "30367/30367 [==============================] - 0s - loss: 0.8191 - acc: 0.7086     \n",
      "Epoch 15/20\n",
      "30367/30367 [==============================] - 0s - loss: 0.7973 - acc: 0.7142     \n",
      "Epoch 16/20\n",
      "30367/30367 [==============================] - 0s - loss: 0.7873 - acc: 0.7250     \n",
      "Epoch 17/20\n",
      "30367/30367 [==============================] - 0s - loss: 0.7674 - acc: 0.7277     \n",
      "Epoch 18/20\n",
      "30367/30367 [==============================] - 0s - loss: 0.7534 - acc: 0.7411     \n",
      "Epoch 19/20\n",
      "30367/30367 [==============================] - 0s - loss: 0.7427 - acc: 0.7431     \n",
      "Epoch 20/20\n",
      "30367/30367 [==============================] - 0s - loss: 0.7269 - acc: 0.7460     \n"
     ]
    },
    {
     "data": {
      "text/plain": [
       "<keras.callbacks.History at 0x7fb7f03aeb38>"
      ]
     },
     "execution_count": 143,
     "metadata": {},
     "output_type": "execute_result"
    }
   ],
   "source": [
    "model = Sequential()\n",
    "# Dense(64) is a fully-connected layer with 64 hidden units.\n",
    "\n",
    "model.add(Dense(64, activation='relu', input_dim=100))\n",
    "model.add(Dropout(0.5))\n",
    "model.add(Dense(64, activation='relu'))\n",
    "model.add(Dropout(0.5))\n",
    "model.add(Dense(5, activation='softmax'))\n",
    "\n",
    "sgd = SGD(lr=0.01, decay=1e-6, momentum=0.9, nesterov=True)\n",
    "model.compile(loss='categorical_crossentropy', optimizer='sgd', metrics=['accuracy'])\n",
    "\n",
    "model.fit(X_train, y_train_cat, epochs=20, batch_size=128)\n",
    "# score = model.evaluate(X_test, y_test_cat, batch_size=128)"
   ]
  },
  {
   "cell_type": "code",
   "execution_count": 144,
   "metadata": {},
   "outputs": [
    {
     "data": {
      "text/plain": [
       "[0.52640881792718075, 0.8274386573134318]"
      ]
     },
     "execution_count": 144,
     "metadata": {},
     "output_type": "execute_result"
    }
   ],
   "source": [
    "score"
   ]
  },
  {
   "cell_type": "markdown",
   "metadata": {
    "collapsed": true
   },
   "source": [
    "### Theory and Model Design"
   ]
  },
  {
   "cell_type": "markdown",
   "metadata": {},
   "source": [
    "**Activation function** of a node defines the output of that node given an input or set of inputs.\n",
    "- softmax\n",
    "- elu\n",
    "- softpuls\n",
    "- softsign\n",
    "- relu\n",
    "- tanh\n",
    "- sigmoid\n",
    "- hard_sigmoid\n",
    "- linear\n",
    "\n",
    "Fully connected layers are defined using the *Dense* class. We can specify the number of neurons in the layer as the first argument, the initialization method as the second argument as *init* and specify the activation function using the activation argument."
   ]
  },
  {
   "cell_type": "code",
   "execution_count": 145,
   "metadata": {},
   "outputs": [],
   "source": [
    "model = Sequential()\n",
    "model.add(Dense(32, input_dim=100, activation='relu'))\n",
    "model.add(Dense(16, activation='relu'))\n",
    "model.add(Dense(1, activation='sigmoid'))"
   ]
  },
  {
   "cell_type": "code",
   "execution_count": 148,
   "metadata": {},
   "outputs": [],
   "source": [
    "model.compile(loss='categorical_crossentropy', optimizer='rmsprop', metrics=['accuracy'])"
   ]
  },
  {
   "cell_type": "code",
   "execution_count": 151,
   "metadata": {},
   "outputs": [
    {
     "ename": "ValueError",
     "evalue": "Error when checking model target: expected dense_54 to have shape (None, 1) but got array with shape (30367, 5)",
     "output_type": "error",
     "traceback": [
      "\u001b[0;31m---------------------------------------------------------------------------\u001b[0m",
      "\u001b[0;31mValueError\u001b[0m                                Traceback (most recent call last)",
      "\u001b[0;32m<ipython-input-151-063308948337>\u001b[0m in \u001b[0;36m<module>\u001b[0;34m()\u001b[0m\n\u001b[1;32m      1\u001b[0m \u001b[0mhistory\u001b[0m \u001b[0;34m=\u001b[0m \u001b[0mHistory\u001b[0m\u001b[0;34m(\u001b[0m\u001b[0;34m)\u001b[0m\u001b[0;34m\u001b[0m\u001b[0m\n\u001b[0;32m----> 2\u001b[0;31m \u001b[0mmodel\u001b[0m\u001b[0;34m.\u001b[0m\u001b[0mfit\u001b[0m\u001b[0;34m(\u001b[0m\u001b[0mX_train\u001b[0m\u001b[0;34m,\u001b[0m \u001b[0my_train_cat\u001b[0m\u001b[0;34m,\u001b[0m \u001b[0mepochs\u001b[0m\u001b[0;34m=\u001b[0m\u001b[0;36m20\u001b[0m\u001b[0;34m,\u001b[0m \u001b[0mbatch_size\u001b[0m\u001b[0;34m=\u001b[0m\u001b[0;36m128\u001b[0m\u001b[0;34m)\u001b[0m\u001b[0;34m\u001b[0m\u001b[0m\n\u001b[0m",
      "\u001b[0;32m/home/bunnech/venv3/lib/python3.5/site-packages/keras/models.py\u001b[0m in \u001b[0;36mfit\u001b[0;34m(self, x, y, batch_size, epochs, verbose, callbacks, validation_split, validation_data, shuffle, class_weight, sample_weight, initial_epoch, **kwargs)\u001b[0m\n\u001b[1;32m    851\u001b[0m                               \u001b[0mclass_weight\u001b[0m\u001b[0;34m=\u001b[0m\u001b[0mclass_weight\u001b[0m\u001b[0;34m,\u001b[0m\u001b[0;34m\u001b[0m\u001b[0m\n\u001b[1;32m    852\u001b[0m                               \u001b[0msample_weight\u001b[0m\u001b[0;34m=\u001b[0m\u001b[0msample_weight\u001b[0m\u001b[0;34m,\u001b[0m\u001b[0;34m\u001b[0m\u001b[0m\n\u001b[0;32m--> 853\u001b[0;31m                               initial_epoch=initial_epoch)\n\u001b[0m\u001b[1;32m    854\u001b[0m \u001b[0;34m\u001b[0m\u001b[0m\n\u001b[1;32m    855\u001b[0m     def evaluate(self, x, y, batch_size=32, verbose=1,\n",
      "\u001b[0;32m/home/bunnech/venv3/lib/python3.5/site-packages/keras/engine/training.py\u001b[0m in \u001b[0;36mfit\u001b[0;34m(self, x, y, batch_size, epochs, verbose, callbacks, validation_split, validation_data, shuffle, class_weight, sample_weight, initial_epoch, **kwargs)\u001b[0m\n\u001b[1;32m   1404\u001b[0m             \u001b[0mclass_weight\u001b[0m\u001b[0;34m=\u001b[0m\u001b[0mclass_weight\u001b[0m\u001b[0;34m,\u001b[0m\u001b[0;34m\u001b[0m\u001b[0m\n\u001b[1;32m   1405\u001b[0m             \u001b[0mcheck_batch_axis\u001b[0m\u001b[0;34m=\u001b[0m\u001b[0;32mFalse\u001b[0m\u001b[0;34m,\u001b[0m\u001b[0;34m\u001b[0m\u001b[0m\n\u001b[0;32m-> 1406\u001b[0;31m             batch_size=batch_size)\n\u001b[0m\u001b[1;32m   1407\u001b[0m         \u001b[0;31m# prepare validation data\u001b[0m\u001b[0;34m\u001b[0m\u001b[0;34m\u001b[0m\u001b[0m\n\u001b[1;32m   1408\u001b[0m         \u001b[0;32mif\u001b[0m \u001b[0mvalidation_data\u001b[0m\u001b[0;34m:\u001b[0m\u001b[0;34m\u001b[0m\u001b[0m\n",
      "\u001b[0;32m/home/bunnech/venv3/lib/python3.5/site-packages/keras/engine/training.py\u001b[0m in \u001b[0;36m_standardize_user_data\u001b[0;34m(self, x, y, sample_weight, class_weight, check_batch_axis, batch_size)\u001b[0m\n\u001b[1;32m   1298\u001b[0m                                     \u001b[0moutput_shapes\u001b[0m\u001b[0;34m,\u001b[0m\u001b[0;34m\u001b[0m\u001b[0m\n\u001b[1;32m   1299\u001b[0m                                     \u001b[0mcheck_batch_axis\u001b[0m\u001b[0;34m=\u001b[0m\u001b[0;32mFalse\u001b[0m\u001b[0;34m,\u001b[0m\u001b[0;34m\u001b[0m\u001b[0m\n\u001b[0;32m-> 1300\u001b[0;31m                                     exception_prefix='model target')\n\u001b[0m\u001b[1;32m   1301\u001b[0m         sample_weights = _standardize_sample_weights(sample_weight,\n\u001b[1;32m   1302\u001b[0m                                                      self._feed_output_names)\n",
      "\u001b[0;32m/home/bunnech/venv3/lib/python3.5/site-packages/keras/engine/training.py\u001b[0m in \u001b[0;36m_standardize_input_data\u001b[0;34m(data, names, shapes, check_batch_axis, exception_prefix)\u001b[0m\n\u001b[1;32m    131\u001b[0m                             \u001b[0;34m' to have shape '\u001b[0m \u001b[0;34m+\u001b[0m \u001b[0mstr\u001b[0m\u001b[0;34m(\u001b[0m\u001b[0mshapes\u001b[0m\u001b[0;34m[\u001b[0m\u001b[0mi\u001b[0m\u001b[0;34m]\u001b[0m\u001b[0;34m)\u001b[0m \u001b[0;34m+\u001b[0m\u001b[0;34m\u001b[0m\u001b[0m\n\u001b[1;32m    132\u001b[0m                             \u001b[0;34m' but got array with shape '\u001b[0m \u001b[0;34m+\u001b[0m\u001b[0;34m\u001b[0m\u001b[0m\n\u001b[0;32m--> 133\u001b[0;31m                             str(array.shape))\n\u001b[0m\u001b[1;32m    134\u001b[0m     \u001b[0;32mreturn\u001b[0m \u001b[0marrays\u001b[0m\u001b[0;34m\u001b[0m\u001b[0m\n\u001b[1;32m    135\u001b[0m \u001b[0;34m\u001b[0m\u001b[0m\n",
      "\u001b[0;31mValueError\u001b[0m: Error when checking model target: expected dense_54 to have shape (None, 1) but got array with shape (30367, 5)"
     ]
    }
   ],
   "source": [
    "history = History()\n",
    "model.fit(X_train, y_train_cat, epochs=20, batch_size=128)\n"
   ]
  },
  {
   "cell_type": "code",
   "execution_count": 150,
   "metadata": {},
   "outputs": [
    {
     "ename": "AttributeError",
     "evalue": "'History' object has no attribute 'epoch'",
     "output_type": "error",
     "traceback": [
      "\u001b[0;31m---------------------------------------------------------------------------\u001b[0m",
      "\u001b[0;31mAttributeError\u001b[0m                            Traceback (most recent call last)",
      "\u001b[0;32m<ipython-input-150-43f5a0bee240>\u001b[0m in \u001b[0;36m<module>\u001b[0;34m()\u001b[0m\n\u001b[0;32m----> 1\u001b[0;31m \u001b[0mplt\u001b[0m\u001b[0;34m.\u001b[0m\u001b[0mplot\u001b[0m\u001b[0;34m(\u001b[0m\u001b[0mhistory\u001b[0m\u001b[0;34m.\u001b[0m\u001b[0mepoch\u001b[0m\u001b[0;34m,\u001b[0m \u001b[0mhistory\u001b[0m\u001b[0;34m.\u001b[0m\u001b[0mhistory\u001b[0m\u001b[0;34m[\u001b[0m\u001b[0;34m\"acc\"\u001b[0m\u001b[0;34m]\u001b[0m\u001b[0;34m)\u001b[0m\u001b[0;34m\u001b[0m\u001b[0m\n\u001b[0m",
      "\u001b[0;31mAttributeError\u001b[0m: 'History' object has no attribute 'epoch'"
     ]
    }
   ],
   "source": [
    "plt.plot(history.epoch, history.history[\"acc\"])"
   ]
  },
  {
   "cell_type": "code",
   "execution_count": 50,
   "metadata": {},
   "outputs": [
    {
     "name": "stdout",
     "output_type": "stream",
     "text": [
      "28480/30367 [===========================>..] - ETA: 0s"
     ]
    },
    {
     "data": {
      "text/plain": [
       "'categorical_crossentropy'"
      ]
     },
     "execution_count": 50,
     "metadata": {},
     "output_type": "execute_result"
    }
   ],
   "source": [
    "scores = model.evaluate(X_train, y_train_cat)"
   ]
  },
  {
   "cell_type": "code",
   "execution_count": 41,
   "metadata": {
    "collapsed": true
   },
   "outputs": [],
   "source": [
    "predictions = model.predict(X_test)"
   ]
  },
  {
   "cell_type": "code",
   "execution_count": 45,
   "metadata": {},
   "outputs": [
    {
     "data": {
      "text/plain": [
       "14957"
      ]
     },
     "execution_count": 45,
     "metadata": {},
     "output_type": "execute_result"
    }
   ],
   "source": [
    "rounded = [np.argmax(x) for x in predictions]"
   ]
  },
  {
   "cell_type": "code",
   "execution_count": 47,
   "metadata": {},
   "outputs": [],
   "source": [
    "from sklearn.metrics import accuracy_score\n",
    "acc = accuracy_score(y_test, rounded)"
   ]
  },
  {
   "cell_type": "code",
   "execution_count": 48,
   "metadata": {},
   "outputs": [
    {
     "data": {
      "text/plain": [
       "0.92705756501972325"
      ]
     },
     "execution_count": 48,
     "metadata": {},
     "output_type": "execute_result"
    }
   ],
   "source": [
    "acc"
   ]
  },
  {
   "cell_type": "code",
   "execution_count": null,
   "metadata": {
    "collapsed": true
   },
   "outputs": [],
   "source": []
  }
 ],
 "metadata": {
  "kernelspec": {
   "display_name": "Python 3",
   "language": "python",
   "name": "python3"
  },
  "language_info": {
   "codemirror_mode": {
    "name": "ipython",
    "version": 3
   },
   "file_extension": ".py",
   "mimetype": "text/x-python",
   "name": "python",
   "nbconvert_exporter": "python",
   "pygments_lexer": "ipython3",
   "version": "3.5.2"
  }
 },
 "nbformat": 4,
 "nbformat_minor": 2
}
