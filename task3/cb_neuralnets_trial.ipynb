{
 "cells": [
  {
   "cell_type": "markdown",
   "metadata": {},
   "source": [
    "# Task 3: Neural Networks"
   ]
  },
  {
   "cell_type": "markdown",
   "metadata": {
    "collapsed": true
   },
   "source": [
    "Multi-class Classification: Your goal is to predict a discrete value y (0, 1, 2, 3 or 4) based on a vector x.\n",
    "\n",
    "Potential approaches / tools to consider: Neural networks / Deep Learning (Theano, TensorFlow, Torch, Lasagne)"
   ]
  },
  {
   "cell_type": "markdown",
   "metadata": {},
   "source": [
    "import tensorflow \n",
    "import numpy as np\n",
    "import matplotlib.pyplot as plt\n",
    "import pandas as pd\n",
    "from keras.models import Sequential\n",
    "from keras.layers import Dense, Activation\n",
    "from keras.wrappers.scikit_learn import KerasClassifier\n",
    "from keras.utils import np_utils\n",
    "from sklearn.model_selection import cross_val_score\n",
    "from sklearn.model_selection import KFold\n",
    "from sklearn.preprocessing import LabelEncoder\n",
    "from sklearn.pipeline import Pipeline"
   ]
  },
  {
   "cell_type": "markdown",
   "metadata": {},
   "source": [
    "#### Data Import"
   ]
  },
  {
   "cell_type": "code",
   "execution_count": 41,
   "metadata": {},
   "outputs": [],
   "source": [
    "train = pd.read_hdf(\"data/train.h5\", \"train\")\n",
    "train_labels = train['y'].as_matrix()\n",
    "train_data = train.ix[:, 1:].astype(float).as_matrix()\n",
    "test = pd.read_hdf(\"data/test.h5\", \"test\")"
   ]
  },
  {
   "cell_type": "markdown",
   "metadata": {},
   "source": [
    "#### Convert Labels"
   ]
  },
  {
   "cell_type": "code",
   "execution_count": 42,
   "metadata": {
    "collapsed": true
   },
   "outputs": [],
   "source": [
    "one_hot_labels = keras.utils.to_categorical(train_labels, \n",
    "                                            num_classes=5)"
   ]
  },
  {
   "cell_type": "markdown",
   "metadata": {},
   "source": [
    "### Neural Network Model: Baseline Model"
   ]
  },
  {
   "cell_type": "markdown",
   "metadata": {
    "collapsed": true
   },
   "source": [
    "The function below creates a baseline neural network, a simple, fully connected network with one hidden layer that contains 100 neurons. The hidden layer uses a rectifier activation function which is a good practice. The output value with the largest value will be taken as the class predicted by the model.\n",
    "\n",
    "The **network topology** can be summarised by: \n",
    "*100 inputs -> [100 hidden nodes] -> 5 outputs* "
   ]
  },
  {
   "cell_type": "code",
   "execution_count": 43,
   "metadata": {},
   "outputs": [],
   "source": [
    "model = Sequential()\n",
    "model.add(Dense(64, input_dim=100, kernel_initializer='normal', \n",
    "                activation='relu'))\n",
    "model.add(Dense(5, kernel_initializer='normal', activation='softmax'))\n",
    "\n",
    "model.compile(loss='categorical_crossentropy', optimizer='rmsprop', \n",
    "              metrics=['accuracy'])"
   ]
  },
  {
   "cell_type": "code",
   "execution_count": 44,
   "metadata": {},
   "outputs": [
    {
     "name": "stdout",
     "output_type": "stream",
     "text": [
      "Epoch 1/10\n",
      "45324/45324 [==============================] - 0s - loss: 0.6739 - acc: 0.7908     \n",
      "Epoch 2/10\n",
      "45324/45324 [==============================] - 0s - loss: 0.4230 - acc: 0.8562     \n",
      "Epoch 3/10\n",
      "45324/45324 [==============================] - 0s - loss: 0.3609 - acc: 0.8796     \n",
      "Epoch 4/10\n",
      "45324/45324 [==============================] - 0s - loss: 0.3193 - acc: 0.8935     \n",
      "Epoch 5/10\n",
      "45324/45324 [==============================] - 0s - loss: 0.2894 - acc: 0.9053     \n",
      "Epoch 6/10\n",
      "45324/45324 [==============================] - 0s - loss: 0.2683 - acc: 0.9122     \n",
      "Epoch 7/10\n",
      "45324/45324 [==============================] - 0s - loss: 0.2508 - acc: 0.9188     \n",
      "Epoch 8/10\n",
      "45324/45324 [==============================] - 0s - loss: 0.2378 - acc: 0.9232     \n",
      "Epoch 9/10\n",
      "45324/45324 [==============================] - 0s - loss: 0.2267 - acc: 0.9274     \n",
      "Epoch 10/10\n",
      "45324/45324 [==============================] - 0s - loss: 0.2175 - acc: 0.9308     \n"
     ]
    },
    {
     "data": {
      "text/plain": [
       "<keras.callbacks.History at 0x7f55f9d81978>"
      ]
     },
     "execution_count": 44,
     "metadata": {},
     "output_type": "execute_result"
    }
   ],
   "source": [
    "model.fit(train_data, one_hot_labels, epochs=10, batch_size=64)"
   ]
  },
  {
   "cell_type": "code",
   "execution_count": null,
   "metadata": {
    "collapsed": true
   },
   "outputs": [],
   "source": []
  }
 ],
 "metadata": {
  "kernelspec": {
   "display_name": "Python 3",
   "language": "python",
   "name": "python3"
  },
  "language_info": {
   "codemirror_mode": {
    "name": "ipython",
    "version": 3
   },
   "file_extension": ".py",
   "mimetype": "text/x-python",
   "name": "python",
   "nbconvert_exporter": "python",
   "pygments_lexer": "ipython3",
   "version": "3.5.2"
  }
 },
 "nbformat": 4,
 "nbformat_minor": 2
}
