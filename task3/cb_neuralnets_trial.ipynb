{
 "cells": [
  {
   "cell_type": "markdown",
   "metadata": {},
   "source": [
    "# Task 3: Neural Networks"
   ]
  },
  {
   "cell_type": "markdown",
   "metadata": {
    "collapsed": true
   },
   "source": [
    "Multi-class Classification: Your goal is to predict a discrete value y (0, 1, 2, 3 or 4) based on a vector x.\n",
    "\n",
    "Potential approaches / tools to consider: Neural networks / Deep Learning (Theano, TensorFlow, Torch, Lasagne)"
   ]
  },
  {
   "cell_type": "code",
   "execution_count": 62,
   "metadata": {
    "collapsed": true
   },
   "outputs": [],
   "source": [
    "import tensorflow \n",
    "import numpy as np\n",
    "import matplotlib.pyplot as plt\n",
    "import pandas as pd\n",
    "from keras.models import Sequential\n",
    "from keras.layers import Dense, Dropout, Activation\n",
    "from keras.wrappers.scikit_learn import KerasClassifier\n",
    "from keras.optimizers import SGD\n",
    "\n",
    "from keras.utils import np_utils\n",
    "from sklearn import model_selection\n",
    "from sklearn.preprocessing import LabelEncoder\n",
    "from sklearn.pipeline import Pipeline"
   ]
  },
  {
   "cell_type": "markdown",
   "metadata": {},
   "source": [
    "#### Data Import"
   ]
  },
  {
   "cell_type": "code",
   "execution_count": 63,
   "metadata": {},
   "outputs": [],
   "source": [
    "train = pd.read_hdf(\"data/train.h5\", \"train\")\n",
    "train_labels = train['y'].as_matrix()\n",
    "train_data = train.ix[:, 1:].astype(float).as_matrix()\n",
    "test_data = pd.read_hdf(\"data/test.h5\", \"test\").as_matrix()"
   ]
  },
  {
   "cell_type": "markdown",
   "metadata": {},
   "source": [
    "#### Split Data into Train and Validation Set "
   ]
  },
  {
   "cell_type": "code",
   "execution_count": 64,
   "metadata": {
    "collapsed": true
   },
   "outputs": [],
   "source": [
    "X_train, X_test, y_train, y_test = model_selection.train_test_split(train_data, train_labels, \n",
    "                                                                    test_size=0.33, random_state=42)"
   ]
  },
  {
   "cell_type": "markdown",
   "metadata": {},
   "source": [
    "#### Convert Labels"
   ]
  },
  {
   "cell_type": "code",
   "execution_count": 73,
   "metadata": {
    "collapsed": true
   },
   "outputs": [],
   "source": [
    "labels_cat = keras.utils.to_categorical(train_labels, num_classes=5)\n",
    "y_train_cat = keras.utils.to_categorical(y_train, num_classes=5)\n",
    "y_test_cat = keras.utils.to_categorical(y_test, num_classes=5)"
   ]
  },
  {
   "cell_type": "markdown",
   "metadata": {},
   "source": [
    "### Neural Network Model: Baseline Model"
   ]
  },
  {
   "cell_type": "markdown",
   "metadata": {
    "collapsed": true
   },
   "source": [
    "The function below creates a baseline neural network, a simple, fully connected network with one hidden layer that contains 100 neurons. The hidden layer uses a rectifier activation function which is a good practice. The output value with the largest value will be taken as the class predicted by the model.\n",
    "\n",
    "The **network topology** can be summarised by: \n",
    "*100 inputs -> [100 hidden nodes] -> 5 outputs* "
   ]
  },
  {
   "cell_type": "code",
   "execution_count": 66,
   "metadata": {},
   "outputs": [],
   "source": [
    "model = Sequential()\n",
    "model.add(Dense(64, input_dim=100, kernel_initializer='normal', \n",
    "                activation='relu'))\n",
    "model.add(Dense(5, kernel_initializer='normal', activation='softmax'))\n",
    "\n",
    "model.compile(loss='categorical_crossentropy', optimizer='rmsprop', \n",
    "              metrics=['accuracy'])"
   ]
  },
  {
   "cell_type": "code",
   "execution_count": 67,
   "metadata": {},
   "outputs": [
    {
     "name": "stdout",
     "output_type": "stream",
     "text": [
      "Epoch 1/10\n",
      "45324/45324 [==============================] - 0s - loss: 0.6615 - acc: 0.7936     \n",
      "Epoch 2/10\n",
      "45324/45324 [==============================] - 0s - loss: 0.4032 - acc: 0.8642     \n",
      "Epoch 3/10\n",
      "45324/45324 [==============================] - 0s - loss: 0.3439 - acc: 0.8852     \n",
      "Epoch 4/10\n",
      "45324/45324 [==============================] - 0s - loss: 0.3075 - acc: 0.8991     \n",
      "Epoch 5/10\n",
      "45324/45324 [==============================] - 0s - loss: 0.2808 - acc: 0.9087     \n",
      "Epoch 6/10\n",
      "45324/45324 [==============================] - 0s - loss: 0.2618 - acc: 0.9148     \n",
      "Epoch 7/10\n",
      "45324/45324 [==============================] - 0s - loss: 0.2465 - acc: 0.9204     \n",
      "Epoch 8/10\n",
      "45324/45324 [==============================] - 0s - loss: 0.2349 - acc: 0.9241     \n",
      "Epoch 9/10\n",
      "45324/45324 [==============================] - 0s - loss: 0.2244 - acc: 0.9276     \n",
      "Epoch 10/10\n",
      "45324/45324 [==============================] - 0s - loss: 0.2160 - acc: 0.9308     \n"
     ]
    },
    {
     "data": {
      "text/plain": [
       "<keras.callbacks.History at 0x7f55f9cfe160>"
      ]
     },
     "execution_count": 67,
     "metadata": {},
     "output_type": "execute_result"
    }
   ],
   "source": [
    "model.fit(train_data, labels_cat, epochs=10, batch_size=64)"
   ]
  },
  {
   "cell_type": "code",
   "execution_count": 68,
   "metadata": {},
   "outputs": [
    {
     "data": {
      "text/plain": [
       "array([[  9.62778926e-01,   8.55894003e-04,   5.47987921e-03,\n",
       "          5.45128202e-03,   2.54339222e-02],\n",
       "       [  2.69350447e-02,   9.96673945e-04,   4.78248388e-01,\n",
       "          4.31844778e-02,   4.50635374e-01],\n",
       "       [  2.93500954e-04,   4.36020446e-06,   2.73193233e-03,\n",
       "          3.52676085e-04,   9.96617496e-01],\n",
       "       ..., \n",
       "       [  2.54674233e-03,   3.89729166e-06,   6.36458513e-04,\n",
       "          9.96709704e-01,   1.03122213e-04],\n",
       "       [  5.64311406e-08,   6.86394319e-09,   9.99921799e-01,\n",
       "          7.81826457e-05,   6.84206858e-11],\n",
       "       [  1.93114975e-03,   5.83559508e-03,   2.51577526e-01,\n",
       "          1.68578012e-03,   7.38969922e-01]], dtype=float32)"
      ]
     },
     "execution_count": 68,
     "metadata": {},
     "output_type": "execute_result"
    }
   ],
   "source": [
    "model.predict(test_data, batch_size=64, )"
   ]
  },
  {
   "cell_type": "markdown",
   "metadata": {},
   "source": [
    "### Multilayer Perceptron (MLP) for multi-class softmax classification"
   ]
  },
  {
   "cell_type": "code",
   "execution_count": 74,
   "metadata": {},
   "outputs": [
    {
     "name": "stdout",
     "output_type": "stream",
     "text": [
      "Epoch 1/20\n",
      "30367/30367 [==============================] - 0s - loss: 1.1749 - acc: 0.5352     \n",
      "Epoch 2/20\n",
      "30367/30367 [==============================] - 0s - loss: 0.7911 - acc: 0.7194     \n",
      "Epoch 3/20\n",
      "30367/30367 [==============================] - 0s - loss: 0.6810 - acc: 0.7667     \n",
      "Epoch 4/20\n",
      "30367/30367 [==============================] - 0s - loss: 0.6178 - acc: 0.7905     \n",
      "Epoch 5/20\n",
      "30367/30367 [==============================] - 0s - loss: 0.5800 - acc: 0.8066     \n",
      "Epoch 6/20\n",
      "30367/30367 [==============================] - 0s - loss: 0.5433 - acc: 0.8214     \n",
      "Epoch 7/20\n",
      "30367/30367 [==============================] - 0s - loss: 0.5217 - acc: 0.8282     \n",
      "Epoch 8/20\n",
      "30367/30367 [==============================] - 0s - loss: 0.5026 - acc: 0.8367     \n",
      "Epoch 9/20\n",
      "30367/30367 [==============================] - 0s - loss: 0.4849 - acc: 0.8423     \n",
      "Epoch 10/20\n",
      "30367/30367 [==============================] - 0s - loss: 0.4718 - acc: 0.8444     \n",
      "Epoch 11/20\n",
      "30367/30367 [==============================] - 0s - loss: 0.4643 - acc: 0.8517     \n",
      "Epoch 12/20\n",
      "30367/30367 [==============================] - 0s - loss: 0.4510 - acc: 0.8515     \n",
      "Epoch 13/20\n",
      "30367/30367 [==============================] - 0s - loss: 0.4422 - acc: 0.8574     \n",
      "Epoch 14/20\n",
      "30367/30367 [==============================] - 0s - loss: 0.4408 - acc: 0.8556     \n",
      "Epoch 15/20\n",
      "30367/30367 [==============================] - 0s - loss: 0.4280 - acc: 0.8604     \n",
      "Epoch 16/20\n",
      "30367/30367 [==============================] - 0s - loss: 0.4218 - acc: 0.8602     \n",
      "Epoch 17/20\n",
      "30367/30367 [==============================] - 0s - loss: 0.4184 - acc: 0.8645     \n",
      "Epoch 18/20\n",
      "30367/30367 [==============================] - 0s - loss: 0.4148 - acc: 0.8648     \n",
      "Epoch 19/20\n",
      "30367/30367 [==============================] - 0s - loss: 0.4148 - acc: 0.8643     \n",
      "Epoch 20/20\n",
      "30367/30367 [==============================] - 0s - loss: 0.4132 - acc: 0.8685     \n",
      "14592/14957 [============================>.] - ETA: 0s"
     ]
    }
   ],
   "source": [
    "model = Sequential()\n",
    "# Dense(64) is a fully-connected layer with 64 hidden units.\n",
    "\n",
    "model.add(Dense(64, activation='relu', input_dim=100))\n",
    "model.add(Dropout(0.5))\n",
    "model.add(Dense(64, activation='relu'))\n",
    "model.add(Dropout(0.5))\n",
    "model.add(Dense(5, activation='softmax'))\n",
    "\n",
    "sgd = SGD(lr=0.01, decay=1e-6, momentum=0.9, nesterov=True)\n",
    "model.compile(loss='categorical_crossentropy', optimizer=sgd, metrics=['accuracy'])\n",
    "\n",
    "model.fit(X_train, y_train_cat, epochs=20, batch_size=128)\n",
    "score = model.evaluate(X_test, y_test_cat, batch_size=128)"
   ]
  },
  {
   "cell_type": "code",
   "execution_count": 76,
   "metadata": {},
   "outputs": [
    {
     "data": {
      "text/plain": [
       "[0.27697164616084574, 0.91127899960017167]"
      ]
     },
     "execution_count": 76,
     "metadata": {},
     "output_type": "execute_result"
    }
   ],
   "source": [
    "score"
   ]
  },
  {
   "cell_type": "code",
   "execution_count": null,
   "metadata": {
    "collapsed": true
   },
   "outputs": [],
   "source": []
  }
 ],
 "metadata": {
  "kernelspec": {
   "display_name": "Python 3",
   "language": "python",
   "name": "python3"
  },
  "language_info": {
   "codemirror_mode": {
    "name": "ipython",
    "version": 3
   },
   "file_extension": ".py",
   "mimetype": "text/x-python",
   "name": "python",
   "nbconvert_exporter": "python",
   "pygments_lexer": "ipython3",
   "version": "3.5.2"
  }
 },
 "nbformat": 4,
 "nbformat_minor": 2
}
